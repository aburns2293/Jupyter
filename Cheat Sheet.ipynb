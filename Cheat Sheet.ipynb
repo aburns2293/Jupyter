{
 "cells": [
  {
   "cell_type": "code",
   "execution_count": 2,
   "metadata": {},
   "outputs": [
    {
     "data": {
      "text/plain": [
       "float"
      ]
     },
     "execution_count": 2,
     "metadata": {},
     "output_type": "execute_result"
    }
   ],
   "source": [
    "# Type of object\n",
    "type(1.0)\n",
    "# String -> words\n",
    "# Intergers -> whole numbers w/ no decimals\n",
    "# Floats -> numbers w/ decimals"
   ]
  },
  {
   "cell_type": "code",
   "execution_count": 7,
   "metadata": {},
   "outputs": [
    {
     "name": "stdout",
     "output_type": "stream",
     "text": [
      "2.0\n",
      "2\n",
      "2\n"
     ]
    }
   ],
   "source": [
    "# Converting objects\n",
    "print(float(2))\n",
    "print(int(2.12))\n",
    "print(str(2))\n",
    "# This won't work for, say, converting a string of words (not numbers) to an interger: print(int(\"Hello, world!\"))"
   ]
  },
  {
   "cell_type": "code",
   "execution_count": 8,
   "metadata": {},
   "outputs": [
    {
     "name": "stdout",
     "output_type": "stream",
     "text": [
      "True\n",
      "1\n",
      "False\n",
      "0\n"
     ]
    }
   ],
   "source": [
    "# Booleans\n",
    "print(bool(1))\n",
    "print(int(True))\n",
    "print(bool(0))\n",
    "print(int(False))\n",
    "# Booleans assign values of 1 or 0 -> 1 = True, 0 = False"
   ]
  },
  {
   "cell_type": "code",
   "execution_count": 16,
   "metadata": {},
   "outputs": [
    {
     "name": "stdout",
     "output_type": "stream",
     "text": [
      "A\n",
      "s\n",
      "18\n",
      "Anna\n",
      "An aio un\n",
      "An\n",
      "Anna Madison BurnsAnna Madison BurnsAnna Madison Burns\n",
      "Anna Madison Burns is learning Python\n"
     ]
    }
   ],
   "source": [
    "# Indexing strings\n",
    "Name = \"Anna Madison Burns\" # This assigns a string to the value \"Name\"\n",
    "print(Name[0]) # First character assigned zero, ascending\n",
    "print(Name[-1]) # Last character assigned -1, descending\n",
    "print(len(Name)) # Number of characters in the string\n",
    "print(Name[0:4]) # Slice the string\n",
    "print(Name[::2]) # Stride the string, in this case take every second character\n",
    "print(Name[0:4:2]) # Stride the string, taking every second character from the first four characters\n",
    "print(Name * 3)\n",
    "Statement = Name + \" is learning Python\" # This is concatenating (or adding) two strings\n",
    "print(Statement)"
   ]
  },
  {
   "cell_type": "code",
   "execution_count": 11,
   "metadata": {},
   "outputs": [
    {
     "name": "stdout",
     "output_type": "stream",
     "text": [
      "Anna \n",
      " Burns\n",
      "Anna \t Burns\n",
      "Anna \\ Burns\n",
      "Anna \\ Burns\n"
     ]
    }
   ],
   "source": [
    "# Escape sequences\n",
    "print(\"Anna \\n Burns\") # New line\n",
    "print(\"Anna \\t Burns\") # New tab\n",
    "print(\"Anna \\\\ Burns\") # Method 1 to print a back slash\n",
    "print(r\"Anna \\ Burns\") # Method 2 to print a back slash"
   ]
  },
  {
   "cell_type": "code",
   "execution_count": 17,
   "metadata": {},
   "outputs": [
    {
     "name": "stdout",
     "output_type": "stream",
     "text": [
      "ANNA MADISON BURNS\n",
      "anna madison burns\n",
      "Tamara Madison Burns\n"
     ]
    }
   ],
   "source": [
    "# String operations\n",
    "A = Name.upper() # Convert to upper case letters\n",
    "print(A)\n",
    "B = A.lower() # Convert to lower case letters\n",
    "print(B)\n",
    "C = Name.replace(\"Anna\", \"Tamara\")\n",
    "print(C)"
   ]
  },
  {
   "cell_type": "code",
   "execution_count": 20,
   "metadata": {},
   "outputs": [
    {
     "name": "stdout",
     "output_type": "stream",
     "text": [
      "5\n",
      "-1\n"
     ]
    }
   ],
   "source": [
    "# Searching strings\n",
    "print(Name.find(\"Mad\")) # Lists the location of the first character\n",
    "print(Name.find(\"e\")) # Gives a negative number if the search term is not in the string"
   ]
  },
  {
   "cell_type": "code",
   "execution_count": 3,
   "metadata": {},
   "outputs": [
    {
     "name": "stdout",
     "output_type": "stream",
     "text": [
      "('disco', 10, 1.2)\n",
      "disco\n",
      "('disco', 10, 1.2, 'hard rock', 10)\n",
      "('hard rock', 10)\n",
      "5\n",
      "0\n"
     ]
    }
   ],
   "source": [
    "# Tuples\n",
    "# Mark tuples with parentheses ()\n",
    "tuple1 = (\"disco\", 10, 1.2) # This is a tuple, a combination of elements\n",
    "print(tuple1)\n",
    "print(tuple1[0]) # You can index a tuple, or print a specific element (can also negatively index)\n",
    "tuple2 = tuple1 + (\"hard rock\", 10) # You can concatenate tuples\n",
    "print(tuple2)\n",
    "print(tuple2[3:5]) # Just like strings, you can slice tuples\n",
    "print(len(tuple2)) # Or determine their length\n",
    "print(tuple1.index(\"disco\")) # Or find their location"
   ]
  },
  {
   "cell_type": "code",
   "execution_count": 2,
   "metadata": {},
   "outputs": [
    {
     "name": "stdout",
     "output_type": "stream",
     "text": [
      "[0, 2, 5, 6, 6, 8, 9, 9, 10]\n"
     ]
    }
   ],
   "source": [
    "# Sorting tuples\n",
    "Ratings = (0, 9, 6, 5, 10, 8, 9, 6, 2)\n",
    "print(sorted(Ratings)) # This sorts the ratings in numerical order"
   ]
  },
  {
   "cell_type": "code",
   "execution_count": 11,
   "metadata": {},
   "outputs": [
    {
     "name": "stdout",
     "output_type": "stream",
     "text": [
      "('pop', 'rock')\n",
      "pop\n",
      "o\n"
     ]
    }
   ],
   "source": [
    "# Nested tuples\n",
    "NestedT =(1, 2, (\"pop\", \"rock\") ,(3,4),(\"disco\",(1,2)))\n",
    "print(NestedT[2]) # Can print an index of the tuple\n",
    "print(NestedT[2][0]) # Can also print a nested index of the tuple\n",
    "print(NestedT[2][0][1]) # You can also print an element of a nested index in the tuple"
   ]
  },
  {
   "cell_type": "code",
   "execution_count": 7,
   "metadata": {},
   "outputs": [
    {
     "name": "stdout",
     "output_type": "stream",
     "text": [
      "['Anna Burns', 1.18, 'AMB']\n",
      "['Anna Burns', 1.18, 'AMB', 'Female', 'Madison']\n",
      "['Anna Burns', 1.18, 'AMB', 'Female', 'Madison', ['EA', 'Math']]\n",
      "['Anna', 1.18, 'AMB', 'Female', 'Madison', ['EA', 'Math']]\n",
      "['Anna', 'AMB', 'Female', 'Madison', ['EA', 'Math']]\n"
     ]
    }
   ],
   "source": [
    "# Lists\n",
    "# The difference between a list and a tuple is that a list is mutable (can be modified) and a tuple is immutable\n",
    "# Mark lists with square brackets []\n",
    "# Just like tuples, you can index a list (positively or negatively), a list can be nested, sliced, or contencated \n",
    "L = [\"Anna Burns\", 1.18, \"AMB\"]\n",
    "print(L)\n",
    "L.extend([\"Female\", \"Madison\"]) # Unlike a tuple, you can extend a list\n",
    "print(L)\n",
    "L.append([\"EA\", \"Math\"]) # Append extends a list with a single element\n",
    "print(L)\n",
    "L[0] = \"Anna\" # We can change elements within a list\n",
    "print(L)\n",
    "del(L[1]) # Or delete elements within a list\n",
    "print(L)"
   ]
  },
  {
   "cell_type": "code",
   "execution_count": 10,
   "metadata": {},
   "outputs": [
    {
     "name": "stdout",
     "output_type": "stream",
     "text": [
      "['hard', 'rock']\n",
      "['A', 'B', 'C', 'D']\n"
     ]
    }
   ],
   "source": [
    "# Lists vs. strings\n",
    "print(\"hard rock\".split()) # This splits a string into a list by the default, which is at the space\n",
    "print(\"A,B,C,D\".split(\",\")) # This splits a string into a list by the comma"
   ]
  },
  {
   "cell_type": "code",
   "execution_count": 12,
   "metadata": {},
   "outputs": [
    {
     "name": "stdout",
     "output_type": "stream",
     "text": [
      "['Anna Burns', 1.18, 'AMB']\n",
      "['Anna Burns', 1.18, 'AMB']\n",
      "['Tamara', 1.18, 'AMB']\n",
      "['Anna Burns', 1.18, 'AMB']\n"
     ]
    }
   ],
   "source": [
    "# Copying and cloning lists\n",
    "A = [\"Anna Burns\", 1.18, \"AMB\"]\n",
    "B = A # This copies list A by reference, so if you change an element in list A it will change in list B as well\n",
    "print(A)\n",
    "print(B)\n",
    "C = A[:] # This clones list A, so if you change list A then list C won't change\n",
    "A[0] = \"Tamara\"\n",
    "print(B)\n",
    "print(C)"
   ]
  },
  {
   "cell_type": "code",
   "execution_count": 14,
   "metadata": {},
   "outputs": [
    {
     "name": "stdout",
     "output_type": "stream",
     "text": [
      "{'hard rock', 'disco', 'folk rock', 'soft rock', 'rock', 'R&B', 'pop', 'soul', 'progressive rock'}\n",
      "{'hard rock', 'disco', 'folk rock', 'soft rock', 'rock', 'R&B', 'metal', 'pop', 'soul', 'progressive rock'}\n",
      "{'hard rock', 'disco', 'folk rock', 'soft rock', 'rock', 'R&B', 'metal', 'pop', 'soul'}\n"
     ]
    },
    {
     "data": {
      "text/plain": [
       "True"
      ]
     },
     "execution_count": 14,
     "metadata": {},
     "output_type": "execute_result"
    }
   ],
   "source": [
    "# Sets\n",
    "# A unique collection of objects marked by {}, with no duplicates\n",
    "L = [\"pop\", \"pop\", \"rock\", \"folk rock\", \"hard rock\", \"soul\", \\\n",
    "                    \"progressive rock\", \"soft rock\", \"R&B\", \"disco\"]\n",
    "music_genres = set(L) # This transforms list L into the set music_genres\n",
    "print(music_genres)\n",
    "music_genres.add(\"metal\") # This adds an element to the set\n",
    "print(music_genres)\n",
    "music_genres.remove(\"progressive rock\") # This removes an element from the set\n",
    "print(music_genres)\n",
    "\"pop\" in music_genres # This confirms whether or not an element is in the given set"
   ]
  },
  {
   "cell_type": "code",
   "execution_count": 16,
   "metadata": {},
   "outputs": [
    {
     "name": "stdout",
     "output_type": "stream",
     "text": [
      "{'AC/DC', 'Back in Black'}\n",
      "{'AC/DC', 'Back in Black'}\n",
      "{'Thriller'}\n",
      "{'AC/DC', 'Back in Black', 'Thriller', 'The Dark Side of the Moon'}\n",
      "True\n",
      "True\n"
     ]
    }
   ],
   "source": [
    "# Sets logic operations\n",
    "album_set1 = set([\"Thriller\", 'AC/DC', 'Back in Black'])\n",
    "album_set2 = set([ \"AC/DC\", \"Back in Black\", \"The Dark Side of the Moon\"])\n",
    "intersection = album_set1 & album_set2 # This is the intersection between the two sets\n",
    "print(intersection)\n",
    "print(album_set1.intersection(album_set2)) # This also gives the intersection\n",
    "print(album_set1.difference(album_set2)) # This gives elements that are in set 1, but not set 2\n",
    "print(album_set1.union(album_set2)) # Gives the union of the sets\n",
    "print(set({\"Back in Black\", \"AC/DC\"}).issubset(album_set1)) # Tells if a set is a subset\n",
    "print(album_set1.issuperset({\"Back in Black\", \"AC/DC\"})) # Tells if a set is a superset (opposite of subset)"
   ]
  },
  {
   "cell_type": "code",
   "execution_count": 6,
   "metadata": {},
   "outputs": [
    {
     "name": "stdout",
     "output_type": "stream",
     "text": [
      "{'Thriller': '1982', 'Back in Black': '1980', 'The Dark Side of the Moon': '1973', 'The Bodyguard': '1992', 'Bat Out of Hell': '1977', 'Their Greatest Hits (1971-1975)': '1976', 'Saturday Night Fever': '1977', 'Rumours': '1977'}\n",
      "1982\n",
      "dict_keys(['Thriller', 'Back in Black', 'The Dark Side of the Moon', 'The Bodyguard', 'Bat Out of Hell', 'Their Greatest Hits (1971-1975)', 'Saturday Night Fever', 'Rumours'])\n",
      "dict_values(['1982', '1980', '1973', '1992', '1977', '1976', '1977', '1977'])\n",
      "{'Back in Black': '1980', 'The Dark Side of the Moon': '1973', 'The Bodyguard': '1992', 'Bat Out of Hell': '1977', 'Their Greatest Hits (1971-1975)': '1976', 'Saturday Night Fever': '1977', 'Rumours': '1977', 'Graduation': '2007'}\n",
      "True\n"
     ]
    }
   ],
   "source": [
    "# Dictionaries\n",
    "# Dictionaries organize information into keys and their elements (key: element, key: element, etc.)\n",
    "release_year_dict = {\"Thriller\": \"1982\", \"Back in Black\": \"1980\", \\\n",
    "                    \"The Dark Side of the Moon\": \"1973\", \"The Bodyguard\": \"1992\", \\\n",
    "                    \"Bat Out of Hell\": \"1977\", \"Their Greatest Hits (1971-1975)\": \"1976\", \\\n",
    "                    \"Saturday Night Fever\": \"1977\", \"Rumours\": \"1977\"}\n",
    "print(release_year_dict)\n",
    "print(release_year_dict[\"Thriller\"]) # Access to the value by key\n",
    "print(release_year_dict.keys()) # Access the keys\n",
    "print(release_year_dict.values()) # Access the values\n",
    "release_year_dict[\"Graduation\"] = \"2007\" # Add new values to the dictionary\n",
    "del(release_year_dict[\"Thriller\"]) # Delete values from the dictionary\n",
    "print(release_year_dict)\n",
    "print(\"Back in Black\" in release_year_dict) # Verify a value is in your dictionary"
   ]
  },
  {
   "cell_type": "code",
   "execution_count": 7,
   "metadata": {},
   "outputs": [],
   "source": [
    "# Conditions\n",
    "# Conditions compare values and produce a boolean: == (equal), != (not equal), > (greater than), < (less than)...\n",
    "# <= (less than or equal to), >= (greater than or equal to)\n",
    "# This works for strings, numbers, even individual letters (alphabetizes, but be careful w/ upper/lower case)"
   ]
  },
  {
   "cell_type": "code",
   "execution_count": 25,
   "metadata": {},
   "outputs": [
    {
     "name": "stdout",
     "output_type": "stream",
     "text": [
      "What were you thinking?\n"
     ]
    }
   ],
   "source": [
    "# Branching/statements\n",
    "age = 4\n",
    "# age = 19\n",
    "if age > 18: # Expression that is true or false\n",
    "    print(\"You can enter\") # Needs to be within the statement (tabbed in), otherwise will run regardless\n",
    "elif age < 10 and age > 3: # This is \"else if,\" and allows for specification within your parameters\n",
    "    # This needs to go between \"if\"/\"else\"\n",
    "    # Logical operators: can use and, or, not (outputs opposite truth value) \n",
    "    print(\"What were you thinking?\")\n",
    "else:\n",
    "    print(\"Move on\")"
   ]
  },
  {
   "cell_type": "code",
   "execution_count": null,
   "metadata": {},
   "outputs": [],
   "source": [
    "\n"
   ]
  }
 ],
 "metadata": {
  "kernelspec": {
   "display_name": "Python 3",
   "language": "python",
   "name": "python3"
  },
  "language_info": {
   "codemirror_mode": {
    "name": "ipython",
    "version": 3
   },
   "file_extension": ".py",
   "mimetype": "text/x-python",
   "name": "python",
   "nbconvert_exporter": "python",
   "pygments_lexer": "ipython3",
   "version": "3.7.6"
  }
 },
 "nbformat": 4,
 "nbformat_minor": 4
}
