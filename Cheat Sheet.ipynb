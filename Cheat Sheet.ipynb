{
 "cells": [
  {
   "cell_type": "code",
   "execution_count": 2,
   "metadata": {},
   "outputs": [
    {
     "data": {
      "text/plain": [
       "float"
      ]
     },
     "execution_count": 2,
     "metadata": {},
     "output_type": "execute_result"
    }
   ],
   "source": [
    "# Type of object\n",
    "type(1.0)\n",
    "# String -> words\n",
    "# Intergers -> whole numbers w/ no decimals\n",
    "# Floats -> numbers w/ decimals"
   ]
  },
  {
   "cell_type": "code",
   "execution_count": 7,
   "metadata": {},
   "outputs": [
    {
     "name": "stdout",
     "output_type": "stream",
     "text": [
      "2.0\n",
      "2\n",
      "2\n"
     ]
    }
   ],
   "source": [
    "# Converting objects\n",
    "print(float(2))\n",
    "print(int(2.12))\n",
    "print(str(2))\n",
    "# This won't work for, say, converting a string of words (not numbers) to an interger: print(int(\"Hello, world!\"))"
   ]
  },
  {
   "cell_type": "code",
   "execution_count": 8,
   "metadata": {},
   "outputs": [
    {
     "name": "stdout",
     "output_type": "stream",
     "text": [
      "True\n",
      "1\n",
      "False\n",
      "0\n"
     ]
    }
   ],
   "source": [
    "# Booleans\n",
    "print(bool(1))\n",
    "print(int(True))\n",
    "print(bool(0))\n",
    "print(int(False))\n",
    "# Booleans assign values of 1 or 0 -> 1 = True, 0 = False"
   ]
  },
  {
   "cell_type": "code",
   "execution_count": 16,
   "metadata": {},
   "outputs": [
    {
     "name": "stdout",
     "output_type": "stream",
     "text": [
      "A\n",
      "s\n",
      "18\n",
      "Anna\n",
      "An aio un\n",
      "An\n",
      "Anna Madison BurnsAnna Madison BurnsAnna Madison Burns\n",
      "Anna Madison Burns is learning Python\n"
     ]
    }
   ],
   "source": [
    "# Indexing strings\n",
    "Name = \"Anna Madison Burns\" # This assigns a string to the value \"Name\"\n",
    "print(Name[0]) # First character assigned zero, ascending\n",
    "print(Name[-1]) # Last character assigned -1, descending\n",
    "print(len(Name)) # Number of characters in the string\n",
    "print(Name[0:4]) # Slice the string\n",
    "print(Name[::2]) # Stride the string, in this case take every second character\n",
    "print(Name[0:4:2]) # Stride the string, taking every second character from the first four characters\n",
    "print(Name * 3)\n",
    "Statement = Name + \" is learning Python\" # This is concatenating (or adding) two strings\n",
    "print(Statement)"
   ]
  },
  {
   "cell_type": "code",
   "execution_count": 11,
   "metadata": {},
   "outputs": [
    {
     "name": "stdout",
     "output_type": "stream",
     "text": [
      "Anna \n",
      " Burns\n",
      "Anna \t Burns\n",
      "Anna \\ Burns\n",
      "Anna \\ Burns\n"
     ]
    }
   ],
   "source": [
    "# Escape sequences\n",
    "print(\"Anna \\n Burns\") # New line\n",
    "print(\"Anna \\t Burns\") # New tab\n",
    "print(\"Anna \\\\ Burns\") # Method 1 to print a back slash\n",
    "print(r\"Anna \\ Burns\") # Method 2 to print a back slash"
   ]
  },
  {
   "cell_type": "code",
   "execution_count": 17,
   "metadata": {},
   "outputs": [
    {
     "name": "stdout",
     "output_type": "stream",
     "text": [
      "ANNA MADISON BURNS\n",
      "anna madison burns\n",
      "Tamara Madison Burns\n"
     ]
    }
   ],
   "source": [
    "# String operations\n",
    "A = Name.upper() # Convert to upper case letters\n",
    "print(A)\n",
    "B = A.lower() # Convert to lower case letters\n",
    "print(B)\n",
    "C = Name.replace(\"Anna\", \"Tamara\")\n",
    "print(C)"
   ]
  },
  {
   "cell_type": "code",
   "execution_count": 20,
   "metadata": {},
   "outputs": [
    {
     "name": "stdout",
     "output_type": "stream",
     "text": [
      "5\n",
      "-1\n"
     ]
    }
   ],
   "source": [
    "# Searching strings\n",
    "print(Name.find(\"Mad\")) # Lists the location of the first character\n",
    "print(Name.find(\"e\")) # Gives a negative number if the search term is not in the string"
   ]
  },
  {
   "cell_type": "code",
   "execution_count": 3,
   "metadata": {},
   "outputs": [
    {
     "name": "stdout",
     "output_type": "stream",
     "text": [
      "('disco', 10, 1.2)\n",
      "disco\n",
      "('disco', 10, 1.2, 'hard rock', 10)\n",
      "('hard rock', 10)\n",
      "5\n",
      "0\n"
     ]
    }
   ],
   "source": [
    "# Tuples\n",
    "# Mark tuples with parentheses ()\n",
    "tuple1 = (\"disco\", 10, 1.2) # This is a tuple, a combination of elements\n",
    "print(tuple1)\n",
    "print(tuple1[0]) # You can index a tuple, or print a specific element (can also negatively index)\n",
    "tuple2 = tuple1 + (\"hard rock\", 10) # You can concatenate tuples\n",
    "print(tuple2)\n",
    "print(tuple2[3:5]) # Just like strings, you can slice tuples\n",
    "print(len(tuple2)) # Or determine their length\n",
    "print(tuple1.index(\"disco\")) # Or find their location"
   ]
  },
  {
   "cell_type": "code",
   "execution_count": 2,
   "metadata": {},
   "outputs": [
    {
     "name": "stdout",
     "output_type": "stream",
     "text": [
      "[0, 2, 5, 6, 6, 8, 9, 9, 10]\n"
     ]
    }
   ],
   "source": [
    "# Sorting tuples\n",
    "Ratings = (0, 9, 6, 5, 10, 8, 9, 6, 2)\n",
    "print(sorted(Ratings)) # This sorts the ratings in numerical order"
   ]
  },
  {
   "cell_type": "code",
   "execution_count": 11,
   "metadata": {},
   "outputs": [
    {
     "name": "stdout",
     "output_type": "stream",
     "text": [
      "('pop', 'rock')\n",
      "pop\n",
      "o\n"
     ]
    }
   ],
   "source": [
    "# Nested tuples\n",
    "NestedT =(1, 2, (\"pop\", \"rock\") ,(3,4),(\"disco\",(1,2)))\n",
    "print(NestedT[2]) # Can print an index of the tuple\n",
    "print(NestedT[2][0]) # Can also print a nested index of the tuple\n",
    "print(NestedT[2][0][1]) # You can also print an element of a nested index in the tuple"
   ]
  },
  {
   "cell_type": "code",
   "execution_count": 7,
   "metadata": {},
   "outputs": [
    {
     "name": "stdout",
     "output_type": "stream",
     "text": [
      "['Anna Burns', 1.18, 'AMB']\n",
      "['Anna Burns', 1.18, 'AMB', 'Female', 'Madison']\n",
      "['Anna Burns', 1.18, 'AMB', 'Female', 'Madison', ['EA', 'Math']]\n",
      "['Anna', 1.18, 'AMB', 'Female', 'Madison', ['EA', 'Math']]\n",
      "['Anna', 'AMB', 'Female', 'Madison', ['EA', 'Math']]\n"
     ]
    }
   ],
   "source": [
    "# Lists\n",
    "# The difference between a list and a tuple is that a list is mutable (can be modified) and a tuple is immutable\n",
    "# Mark lists with square brackets []\n",
    "# Just like tuples, you can index a list (positively or negatively), a list can be nested, sliced, or contencated \n",
    "L = [\"Anna Burns\", 1.18, \"AMB\"]\n",
    "print(L)\n",
    "L.extend([\"Female\", \"Madison\"]) # Unlike a tuple, you can extend a list\n",
    "print(L)\n",
    "L.append([\"EA\", \"Math\"]) # Append extends a list with a single element\n",
    "print(L)\n",
    "L[0] = \"Anna\" # We can change elements within a list\n",
    "print(L)\n",
    "del(L[1]) # Or delete elements within a list\n",
    "print(L)"
   ]
  },
  {
   "cell_type": "code",
   "execution_count": 10,
   "metadata": {},
   "outputs": [
    {
     "name": "stdout",
     "output_type": "stream",
     "text": [
      "['hard', 'rock']\n",
      "['A', 'B', 'C', 'D']\n"
     ]
    }
   ],
   "source": [
    "# Lists vs. strings\n",
    "print(\"hard rock\".split()) # This splits a string into a list by the default, which is at the space\n",
    "print(\"A,B,C,D\".split(\",\")) # This splits a string into a list by the comma"
   ]
  },
  {
   "cell_type": "code",
   "execution_count": 12,
   "metadata": {},
   "outputs": [
    {
     "name": "stdout",
     "output_type": "stream",
     "text": [
      "['Anna Burns', 1.18, 'AMB']\n",
      "['Anna Burns', 1.18, 'AMB']\n",
      "['Tamara', 1.18, 'AMB']\n",
      "['Anna Burns', 1.18, 'AMB']\n"
     ]
    }
   ],
   "source": [
    "# Copying and cloning lists\n",
    "A = [\"Anna Burns\", 1.18, \"AMB\"]\n",
    "B = A # This copies list A by reference, so if you change an element in list A it will change in list B as well\n",
    "print(A)\n",
    "print(B)\n",
    "C = A[:] # This clones list A, so if you change list A then list C won't change\n",
    "A[0] = \"Tamara\"\n",
    "print(B)\n",
    "print(C)"
   ]
  },
  {
   "cell_type": "code",
   "execution_count": 14,
   "metadata": {},
   "outputs": [
    {
     "name": "stdout",
     "output_type": "stream",
     "text": [
      "{'hard rock', 'disco', 'folk rock', 'soft rock', 'rock', 'R&B', 'pop', 'soul', 'progressive rock'}\n",
      "{'hard rock', 'disco', 'folk rock', 'soft rock', 'rock', 'R&B', 'metal', 'pop', 'soul', 'progressive rock'}\n",
      "{'hard rock', 'disco', 'folk rock', 'soft rock', 'rock', 'R&B', 'metal', 'pop', 'soul'}\n"
     ]
    },
    {
     "data": {
      "text/plain": [
       "True"
      ]
     },
     "execution_count": 14,
     "metadata": {},
     "output_type": "execute_result"
    }
   ],
   "source": [
    "# Sets\n",
    "# A unique collection of objects marked by {}, with no duplicates\n",
    "L = [\"pop\", \"pop\", \"rock\", \"folk rock\", \"hard rock\", \"soul\", \\\n",
    "                    \"progressive rock\", \"soft rock\", \"R&B\", \"disco\"]\n",
    "music_genres = set(L) # This transforms list L into the set music_genres\n",
    "print(music_genres)\n",
    "music_genres.add(\"metal\") # This adds an element to the set\n",
    "print(music_genres)\n",
    "music_genres.remove(\"progressive rock\") # This removes an element from the set\n",
    "print(music_genres)\n",
    "\"pop\" in music_genres # This confirms whether or not an element is in the given set"
   ]
  },
  {
   "cell_type": "code",
   "execution_count": 16,
   "metadata": {},
   "outputs": [
    {
     "name": "stdout",
     "output_type": "stream",
     "text": [
      "{'AC/DC', 'Back in Black'}\n",
      "{'AC/DC', 'Back in Black'}\n",
      "{'Thriller'}\n",
      "{'AC/DC', 'Back in Black', 'Thriller', 'The Dark Side of the Moon'}\n",
      "True\n",
      "True\n"
     ]
    }
   ],
   "source": [
    "# Sets logic operations\n",
    "album_set1 = set([\"Thriller\", 'AC/DC', 'Back in Black'])\n",
    "album_set2 = set([ \"AC/DC\", \"Back in Black\", \"The Dark Side of the Moon\"])\n",
    "intersection = album_set1 & album_set2 # This is the intersection between the two sets\n",
    "print(intersection)\n",
    "print(album_set1.intersection(album_set2)) # This also gives the intersection\n",
    "print(album_set1.difference(album_set2)) # This gives elements that are in set 1, but not set 2\n",
    "print(album_set1.union(album_set2)) # Gives the union of the sets\n",
    "print(set({\"Back in Black\", \"AC/DC\"}).issubset(album_set1)) # Tells if a set is a subset\n",
    "print(album_set1.issuperset({\"Back in Black\", \"AC/DC\"})) # Tells if a set is a superset (opposite of subset)"
   ]
  },
  {
   "cell_type": "code",
   "execution_count": 6,
   "metadata": {},
   "outputs": [
    {
     "name": "stdout",
     "output_type": "stream",
     "text": [
      "{'Thriller': '1982', 'Back in Black': '1980', 'The Dark Side of the Moon': '1973', 'The Bodyguard': '1992', 'Bat Out of Hell': '1977', 'Their Greatest Hits (1971-1975)': '1976', 'Saturday Night Fever': '1977', 'Rumours': '1977'}\n",
      "1982\n",
      "dict_keys(['Thriller', 'Back in Black', 'The Dark Side of the Moon', 'The Bodyguard', 'Bat Out of Hell', 'Their Greatest Hits (1971-1975)', 'Saturday Night Fever', 'Rumours'])\n",
      "dict_values(['1982', '1980', '1973', '1992', '1977', '1976', '1977', '1977'])\n",
      "{'Back in Black': '1980', 'The Dark Side of the Moon': '1973', 'The Bodyguard': '1992', 'Bat Out of Hell': '1977', 'Their Greatest Hits (1971-1975)': '1976', 'Saturday Night Fever': '1977', 'Rumours': '1977', 'Graduation': '2007'}\n",
      "True\n"
     ]
    }
   ],
   "source": [
    "# Dictionaries\n",
    "# Dictionaries organize information into keys and their elements (key: element, key: element, etc.)\n",
    "release_year_dict = {\"Thriller\": \"1982\", \"Back in Black\": \"1980\", \\\n",
    "                    \"The Dark Side of the Moon\": \"1973\", \"The Bodyguard\": \"1992\", \\\n",
    "                    \"Bat Out of Hell\": \"1977\", \"Their Greatest Hits (1971-1975)\": \"1976\", \\\n",
    "                    \"Saturday Night Fever\": \"1977\", \"Rumours\": \"1977\"}\n",
    "print(release_year_dict)\n",
    "print(release_year_dict[\"Thriller\"]) # Access to the value by key\n",
    "print(release_year_dict.keys()) # Access the keys\n",
    "print(release_year_dict.values()) # Access the values\n",
    "release_year_dict[\"Graduation\"] = \"2007\" # Add new values to the dictionary\n",
    "del(release_year_dict[\"Thriller\"]) # Delete values from the dictionary\n",
    "print(release_year_dict)\n",
    "print(\"Back in Black\" in release_year_dict) # Verify a value is in your dictionary"
   ]
  },
  {
   "cell_type": "code",
   "execution_count": 7,
   "metadata": {},
   "outputs": [],
   "source": [
    "# Conditions\n",
    "# Conditions compare values and produce a boolean: == (equal), != (not equal), > (greater than), < (less than)...\n",
    "# <= (less than or equal to), >= (greater than or equal to)\n",
    "# This works for strings, numbers, even individual letters (alphabetizes, but be careful w/ upper/lower case)"
   ]
  },
  {
   "cell_type": "code",
   "execution_count": 25,
   "metadata": {},
   "outputs": [
    {
     "name": "stdout",
     "output_type": "stream",
     "text": [
      "What were you thinking?\n"
     ]
    }
   ],
   "source": [
    "# Branching/statements\n",
    "age = 4\n",
    "# age = 19\n",
    "if age > 18: # Expression that is true or false\n",
    "    print(\"You can enter\") # Needs to be within the statement (tabbed in), otherwise will run regardless\n",
    "elif age < 10 and age > 3: # This is \"else if,\" and allows for specification within your parameters\n",
    "    # This needs to go between \"if\"/\"else\"\n",
    "    # Logical operators: can use and, or, not (outputs opposite truth value) \n",
    "    print(\"What were you thinking?\")\n",
    "else:\n",
    "    print(\"Move on\")"
   ]
  },
  {
   "cell_type": "code",
   "execution_count": 29,
   "metadata": {},
   "outputs": [
    {
     "name": "stdout",
     "output_type": "stream",
     "text": [
      "range(0, 3)\n",
      "1982\n",
      "1980\n",
      "1973\n",
      "1982\n",
      "1980\n",
      "It took  2  repetitions to get out of the loop\n"
     ]
    }
   ],
   "source": [
    "# Loops\n",
    "# Loops are repeated executions\n",
    "print(range(3)) # This is a simple example of range, or an ordered list; this gives an ordered list from 0 to 2\n",
    "dates = [1982, 1980, 1973]\n",
    "N = len(dates)\n",
    "for i in range(N):  # This is an example of a \"for loop,\" which executes the same code block multiple times (for each date)\n",
    "    print(dates[i]) # The code is executed N times, for each time i increases by 1\n",
    "i = 0\n",
    "year = 0\n",
    "while(year!=1980): # This is a \"while loop,\" which continues based on a condition (here, until it reaches 1980)\n",
    "    year = dates[i]\n",
    "    i = i + 1\n",
    "    print(year)\n",
    "print(\"It took \", i, \" repetitions to get out of the loop\")"
   ]
  },
  {
   "cell_type": "code",
   "execution_count": 31,
   "metadata": {},
   "outputs": [
    {
     "name": "stdout",
     "output_type": "stream",
     "text": [
      "1  if you add one 2\n"
     ]
    },
    {
     "data": {
      "text/plain": [
       "2"
      ]
     },
     "execution_count": 31,
     "metadata": {},
     "output_type": "execute_result"
    }
   ],
   "source": [
    "# Functions\n",
    "# Functions are reusable blocks of code: def, function name, parentheses, return\n",
    "def add(a): # Creating the function\n",
    "    c = 1 # c is a local variable, one that is only defined within the function\n",
    "    b = a + c \n",
    "    print(a, \" if you add one\", b)\n",
    "    return(b)\n",
    "add(1) # Using the function\n",
    "# http://www.astro.up.pt/~sousasag/Python_For_Astronomers/Python_qr.pdf is a cheat sheet of defined functions"
   ]
  },
  {
   "cell_type": "code",
   "execution_count": 34,
   "metadata": {},
   "outputs": [
    {
     "name": "stdout",
     "output_type": "stream",
     "text": [
      "Fleetwood Mac Rumours 1977\n",
      "Oldie\n"
     ]
    }
   ],
   "source": [
    "# If/else statements in loop functions\n",
    "def type_of_album(artist, album, year_released):\n",
    "    print(artist, album, year_released)\n",
    "    if year_released > 1980:\n",
    "        return \"Modern\"\n",
    "    if year_released < 1980:\n",
    "        return \"Oldie\"\n",
    "x = type_of_album(\"Fleetwood Mac\", \"Rumours\", 1977)\n",
    "print(x) "
   ]
  },
  {
   "cell_type": "code",
   "execution_count": 37,
   "metadata": {},
   "outputs": [
    {
     "name": "stdout",
     "output_type": "stream",
     "text": [
      "Fleetwood Mac  is an artist\n",
      "Joni Mitchell  is an artist\n"
     ]
    }
   ],
   "source": [
    "# Global variables\n",
    "artist = \"Fleetwood Mac\" # This is a global variable, and is accessible from anywhere in the program\n",
    "def printer(artist):\n",
    "    global internal_var # This turns an internal variable into a global one, so that it exists outside the function\n",
    "    internal_var = \"Joni Mitchell\"\n",
    "    print(artist, \" is an artist\")\n",
    "printer(artist)\n",
    "printer(internal_var)"
   ]
  },
  {
   "cell_type": "code",
   "execution_count": 45,
   "metadata": {},
   "outputs": [
    {
     "data": {
      "image/png": "[encoded data removed]",
      "text/plain": [
       "<Figure size 432x288 with 1 Axes>"
      ]
     },
     "metadata": {
      "needs_background": "light"
     },
     "output_type": "display_data"
    }
   ],
   "source": [
    "# Classes and objects: Circles\n",
    "import matplotlib.pyplot as plt # Importing a library to draw objects\n",
    "%matplotlib inline  \n",
    "class Circle(object):  # This code defines your class\n",
    "    # Constructor\n",
    "    def __init__(self, radius = 3, color = \"blue\"):\n",
    "        self.radius = radius;\n",
    "        self.color = color;\n",
    "    # Method (here, to add r to the radius)\n",
    "    def add_radius(self, r):\n",
    "        self.radius = self.radius + r\n",
    "        return(self.radius)\n",
    "    # Method (here, to display the image of the cirlce)\n",
    "    def drawCircle(self):\n",
    "        plt.gca().add_patch(plt.Circle((0, 0), radius = self.radius, fc = self.color))\n",
    "        plt.axis(\"scaled\")\n",
    "        plt.show\n",
    "RedCircle = Circle(10, \"red\") # Now let's create an instance with our class\n",
    "RedCircle.drawCircle()"
   ]
  },
  {
   "cell_type": "code",
   "execution_count": 50,
   "metadata": {},
   "outputs": [
    {
     "data": {
      "image/png": "[encoded data removed]",
      "text/plain": [
       "<Figure size 432x288 with 1 Axes>"
      ]
     },
     "metadata": {
      "needs_background": "light"
     },
     "output_type": "display_data"
    }
   ],
   "source": [
    "# Classes and objects: Rectangles\n",
    "class Rectangle(object):\n",
    "    # Constructor\n",
    "    def __init__(self, width = 2, height = 3, color = \"r\"):\n",
    "        self.height = height\n",
    "        self.width = width\n",
    "        self.color = color\n",
    "    # Method\n",
    "    def drawRectangle(self):\n",
    "        plt.gca().add_patch(plt.Rectangle((0, 0), self.width, self.height, fc = self.color))\n",
    "        plt.axis(\"scaled\")\n",
    "        plt.show()\n",
    "BlueRectangle = Rectangle(color = \"blue\")\n",
    "BlueRectangle.drawRectangle()"
   ]
  },
  {
   "cell_type": "code",
   "execution_count": null,
   "metadata": {},
   "outputs": [],
   "source": [
    "# Reading text files (note: this lab included internal data, and so couldn't be uploaded to Github)\n",
    "# Method 1: file = open(\"/resources/data/Example1.txt\",\"r\") -> \"r\" indicates \"read,\" \"w\" indicates \"write\" files\n",
    "    # Other commands: file1.name, file1.mode, file1.read(), print(file1.read()), type(file1.read())\n",
    "    # At the end you must use file1.close() !!!\n",
    "# Method 2: with open(example1, \"r\") as file1:\n",
    "                #print(file1.read())\n",
    "    # This code will automatically close the file once it encounters an exception (no close command)\n",
    "# You can specify what you want from the file - ex: file1.read(4) will print the first 4 characters\n",
    "    # If you print file1.read(4) and then another file1.read(4), it will print the next 4 charactesr\n",
    "# You can print by line: file1.readline()"
   ]
  },
  {
   "cell_type": "code",
   "execution_count": null,
   "metadata": {},
   "outputs": [],
   "source": [
    "# Writing text files (note: this lab included internal data, and so couldn't be uploaded to Github)\n",
    "# ex: with open(example2, \"2\") as file2:\n",
    "        #file2.write(\"This is line A\") <- This will add this line to the file\n",
    "# You can then use the \"read file\" methods to check that it turned out the way you want\n",
    "# Setting the method from \"w\" to \"a\" allows you to append a line (extend a list by a single element)"
   ]
  },
  {
   "cell_type": "code",
   "execution_count": null,
   "metadata": {},
   "outputs": [],
   "source": [
    "# Copying a text file (note: this lab included internal data, and so couldn't be uploaded to Github)\n",
    "# ex: with open(Example3.txt, \"r\") as readfile:\n",
    "        # with open(Example3.txt, \"w\") as writefile:\n",
    "            # for line in readfile:\n",
    "                # writefile.write(line)     "
   ]
  },
  {
   "cell_type": "code",
   "execution_count": 4,
   "metadata": {},
   "outputs": [
    {
     "name": "stdout",
     "output_type": "stream",
     "text": [
      "[0 1 2 3 4]\n",
      "[6 1 2 3 4]\n",
      "[6 2 3]\n"
     ]
    }
   ],
   "source": [
    "# Numpy arrays\n",
    "a = [\"0\", 1, \"two\", \"3\", 4]\n",
    "import numpy as np\n",
    "a = np.array([0, 1, 2, 3, 4])\n",
    "print(a) # This is an example of casting a list (a) onto a numpy array, where everything is the same datatype\n",
    "a[0] = 6 # You can change elements within a numpy array; you can also slice (just like with lists, etc.)\n",
    "print(a)\n",
    "select = [0, 2, 3] \n",
    "b = a[select] # You can multiply each element by a different factor\n",
    "print(b)"
   ]
  },
  {
   "cell_type": "code",
   "execution_count": 9,
   "metadata": {},
   "outputs": [
    {
     "name": "stdout",
     "output_type": "stream",
     "text": [
      "5\n",
      "1\n",
      "(5,)\n",
      "2.0\n",
      "1.4142135623730951\n",
      "4\n",
      "0\n",
      "int32\n"
     ]
    }
   ],
   "source": [
    "# Operations with numpy arrays\n",
    "import numpy as np\n",
    "a = np.array([0, 1, 2, 3, 4])\n",
    "print(a.size) # Gives number of elements in the array\n",
    "print(a.ndim) # Gives the rank of the array\n",
    "print(a.shape) # Gives the size of the array in each dimension\n",
    "print(a.mean()) # Gives the mean\n",
    "print(a.std()) # Gives the standard deviation\n",
    "print(a.max()) # Gives the max\n",
    "print(a.min()) # Gives the min\n",
    "print(a.dtype) # Gives the type of the elements (in this case, intergers)"
   ]
  },
  {
   "cell_type": "code",
   "execution_count": 19,
   "metadata": {},
   "outputs": [
    {
     "name": "stdout",
     "output_type": "stream",
     "text": [
      "[3 4]\n",
      "7\n",
      "[5 6]\n"
     ]
    }
   ],
   "source": [
    "# Array operations (cont.)\n",
    "# Addition behaves the same way as vector addition\n",
    "# Array multiplication is the same as multiplying a vector by a scalar\n",
    "# Multiplying two numpy arrays multiplies each of the elements:\n",
    "u = np.array([1, 2])\n",
    "v = np.array([3, 2])\n",
    "z = u * v\n",
    "print(z)\n",
    "print(np.dot(u, v)) # This gives the dot product\n",
    "print(z + 2) # This adds the constant to each element in the array"
   ]
  },
  {
   "cell_type": "code",
   "execution_count": 20,
   "metadata": {},
   "outputs": [
    {
     "name": "stdout",
     "output_type": "stream",
     "text": [
      "3.141592653589793\n",
      "[0.0000000e+00 1.0000000e+00 1.2246468e-16]\n"
     ]
    }
   ],
   "source": [
    "# Mathematical functions in arrays\n",
    "print(np.pi) # This gives the value of pi\n",
    "x = np.array([0, np.pi/2, np.pi]) # This is how you can create an arrays with radians\n",
    "y = np.sin(x)\n",
    "print(y)"
   ]
  },
  {
   "cell_type": "code",
   "execution_count": 23,
   "metadata": {},
   "outputs": [
    {
     "name": "stdout",
     "output_type": "stream",
     "text": [
      "[-2. -1.  0.  1.  2.]\n"
     ]
    }
   ],
   "source": [
    "# Linspace\n",
    "# Linspace returns evenly spaced numbers over a specific interval\n",
    "print(np.linspace(-2, 2, num=5)) # This gives a numpy array in the interval [-2, 2] with five elements"
   ]
  },
  {
   "cell_type": "code",
   "execution_count": 28,
   "metadata": {},
   "outputs": [
    {
     "name": "stdout",
     "output_type": "stream",
     "text": [
      "Dimension is 2 ; Shape is (3, 3) ; Size is 9\n",
      "16\n",
      "[11 12]\n"
     ]
    }
   ],
   "source": [
    "# 2D numpy arrays\n",
    "a = ([11, 12, 13], [14 ,15, 16], [17, 18, 19])\n",
    "A = np.array(a)\n",
    "print(\"Dimension is\", A.ndim, \";\", \"Shape is\", A.shape, \"; Size is\", A.size)\n",
    "print(A[1,2]) # This behaves a bit like a matrix, and will print the element in the second row, third column (starts at 0)\n",
    "print(A[0][0:2]) # This will slice the first row, first and second columns"
   ]
  },
  {
   "cell_type": "code",
   "execution_count": 34,
   "metadata": {},
   "outputs": [
    {
     "name": "stdout",
     "output_type": "stream",
     "text": [
      "[[2 2]\n",
      " [2 2]]\n",
      "[[2 0]\n",
      " [0 2]]\n",
      "[[1 0]\n",
      " [0 1]]\n",
      "[[1 2]\n",
      " [2 1]]\n",
      "[[1 2]\n",
      " [2 1]]\n"
     ]
    }
   ],
   "source": [
    "# 2D numpy array operations\n",
    "x = np.array([[1, 2], [2,1]])\n",
    "y = np.array([[1, 0], [0,1]])\n",
    "print(x + y) # This behaves like matrix addition\n",
    "print(2 * y) # This behaves like scalar multiplication\n",
    "print(x * y) # This will give an element-wise (or Hadamard) product\n",
    "print(np.dot(x, y)) # This will give the dot product\n",
    "print(x.T) # This will give the transpose"
   ]
  },
  {
   "cell_type": "code",
   "execution_count": 41,
   "metadata": {},
   "outputs": [
    {
     "name": "stdout",
     "output_type": "stream",
     "text": [
      "Requirement already satisfied: nba_api in c:\\users\\annam\\anaconda3\\lib\\site-packages (1.1.8)\n",
      "Requirement already satisfied: requests in c:\\users\\annam\\anaconda3\\lib\\site-packages (from nba_api) (2.22.0)\n",
      "Requirement already satisfied: certifi>=2017.4.17 in c:\\users\\annam\\anaconda3\\lib\\site-packages (from requests->nba_api) (2019.11.28)\n",
      "Requirement already satisfied: idna<2.9,>=2.5 in c:\\users\\annam\\anaconda3\\lib\\site-packages (from requests->nba_api) (2.8)\n",
      "Requirement already satisfied: urllib3!=1.25.0,!=1.25.1,<1.26,>=1.21.1 in c:\\users\\annam\\anaconda3\\lib\\site-packages (from requests->nba_api) (1.25.8)\n",
      "Requirement already satisfied: chardet<3.1.0,>=3.0.2 in c:\\users\\annam\\anaconda3\\lib\\site-packages (from requests->nba_api) (3.0.4)\n",
      "<class 'pandas.core.frame.DataFrame'>\n",
      "    a   b\n",
      "0  11  12\n",
      "1  21  22\n",
      "2  31  32\n",
      "a    21.0\n",
      "b    22.0\n",
      "dtype: float64\n"
     ]
    }
   ],
   "source": [
    "# Pandas application programming interface (API)\n",
    "!pip install nba_api\n",
    "def one_dict(list_dict):\n",
    "    keys=list_dict[0].keys()\n",
    "    out_dict={key:[] for key in keys}\n",
    "    for dict_ in list_dict:\n",
    "        for key, value in dict_.items():\n",
    "            out_dict[key].append(value)\n",
    "    return out_dict  \n",
    "import pandas as pd\n",
    "import matplotlib.pyplot as plt\n",
    "dict_={'a':[11,21,31],'b':[12,22,32]} # Create a dictionary with data\n",
    "df = pd.DataFrame(dict_) # This transforms your dictionary into a dataframe using panda\n",
    "print(type(df))\n",
    "print(df.head()) # The dataframe communicates with the API to give the first few rows\n",
    "print(df.mean()) # The dataframe communicates with the API to give the means"
   ]
  },
  {
   "cell_type": "code",
   "execution_count": 46,
   "metadata": {},
   "outputs": [
    {
     "name": "stdout",
     "output_type": "stream",
     "text": [
      "{'id': 1610612737, 'full_name': 'Atlanta Hawks', 'abbreviation': 'ATL', 'nickname': 'Hawks', 'city': 'Atlanta', 'state': 'Atlanta', 'year_founded': 1949}\n",
      "           id             full_name abbreviation   nickname         city  \\\n",
      "0  1610612737         Atlanta Hawks          ATL      Hawks      Atlanta   \n",
      "1  1610612738        Boston Celtics          BOS    Celtics       Boston   \n",
      "2  1610612739   Cleveland Cavaliers          CLE  Cavaliers    Cleveland   \n",
      "3  1610612740  New Orleans Pelicans          NOP   Pelicans  New Orleans   \n",
      "4  1610612741         Chicago Bulls          CHI      Bulls      Chicago   \n",
      "\n",
      "           state  year_founded  \n",
      "0        Atlanta          1949  \n",
      "1  Massachusetts          1946  \n",
      "2           Ohio          1970  \n",
      "3      Louisiana          2002  \n",
      "4       Illinois          1966  \n",
      "           id              full_name abbreviation  nickname          city  \\\n",
      "7  1610612744  Golden State Warriors          GSW  Warriors  Golden State   \n",
      "\n",
      "        state  year_founded  \n",
      "7  California          1946  \n"
     ]
    }
   ],
   "source": [
    "# Rest API\n",
    "# This sends requests and reponses via HTTP message with a JSON file\n",
    "from nba_api.stats.static import teams\n",
    "import matplotlib.pyplot as plt\n",
    "#https://pypi.org/project/nba-api/\n",
    "nba_teams = teams.get_teams()\n",
    "print(nba_teams[0]) # Let's see an example of what information is contained within this dataset\n",
    "# Let's convert this dictionary to a table, to make our lives easier\n",
    "dict_nba_team = one_dict(nba_teams)\n",
    "df_teams = pd.DataFrame(dict_nba_team)\n",
    "print(df_teams.head())\n",
    "df_warriors=df_teams[df_teams['nickname']=='Warriors'] # We can use this identifier to access data within the frame\n",
    "print(df_warriors)"
   ]
  },
  {
   "cell_type": "code",
   "execution_count": null,
   "metadata": {},
   "outputs": [],
   "source": []
  }
 ],
 "metadata": {
  "kernelspec": {
   "display_name": "Python 3",
   "language": "python",
   "name": "python3"
  },
  "language_info": {
   "codemirror_mode": {
    "name": "ipython",
    "version": 3
   },
   "file_extension": ".py",
   "mimetype": "text/x-python",
   "name": "python",
   "nbconvert_exporter": "python",
   "pygments_lexer": "ipython3",
   "version": "3.7.6"
  }
 },
 "nbformat": 4,
 "nbformat_minor": 4
}
