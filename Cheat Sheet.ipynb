{
 "cells": [
  {
   "cell_type": "code",
   "execution_count": 2,
   "metadata": {},
   "outputs": [
    {
     "data": {
      "text/plain": [
       "float"
      ]
     },
     "execution_count": 2,
     "metadata": {},
     "output_type": "execute_result"
    }
   ],
   "source": [
    "# Type of object\n",
    "type(1.0)\n",
    "# String -> words\n",
    "# Intergers -> whole numbers w/ no decimals\n",
    "# Floats -> numbers w/ decimals"
   ]
  },
  {
   "cell_type": "code",
   "execution_count": 7,
   "metadata": {},
   "outputs": [
    {
     "name": "stdout",
     "output_type": "stream",
     "text": [
      "2.0\n",
      "2\n",
      "2\n"
     ]
    }
   ],
   "source": [
    "# Converting objects\n",
    "print(float(2))\n",
    "print(int(2.12))\n",
    "print(str(2))\n",
    "# This won't work for, say, converting a string of words (not numbers) to an interger: print(int(\"Hello, world!\"))"
   ]
  },
  {
   "cell_type": "code",
   "execution_count": 8,
   "metadata": {},
   "outputs": [
    {
     "name": "stdout",
     "output_type": "stream",
     "text": [
      "True\n",
      "1\n",
      "False\n",
      "0\n"
     ]
    }
   ],
   "source": [
    "# Booleans\n",
    "print(bool(1))\n",
    "print(int(True))\n",
    "print(bool(0))\n",
    "print(int(False))\n",
    "# Booleans assign values of 1 or 0 -> 1 = True, 0 = False"
   ]
  },
  {
   "cell_type": "code",
   "execution_count": 16,
   "metadata": {},
   "outputs": [
    {
     "name": "stdout",
     "output_type": "stream",
     "text": [
      "A\n",
      "s\n",
      "18\n",
      "Anna\n",
      "An aio un\n",
      "An\n",
      "Anna Madison BurnsAnna Madison BurnsAnna Madison Burns\n",
      "Anna Madison Burns is learning Python\n"
     ]
    }
   ],
   "source": [
    "# Indexing strings\n",
    "Name = \"Anna Madison Burns\" # This assigns a string to the value \"Name\"\n",
    "print(Name[0]) # First character assigned zero, ascending\n",
    "print(Name[-1]) # Last character assigned -1, descending\n",
    "print(len(Name)) # Number of characters in the string\n",
    "print(Name[0:4]) # Slice the string\n",
    "print(Name[::2]) # Stride the string, in this case take every second character\n",
    "print(Name[0:4:2]) # Stride the string, taking every second character from the first four characters\n",
    "print(Name * 3)\n",
    "Statement = Name + \" is learning Python\" # This is concatenating (or adding) two strings\n",
    "print(Statement)"
   ]
  },
  {
   "cell_type": "code",
   "execution_count": 11,
   "metadata": {},
   "outputs": [
    {
     "name": "stdout",
     "output_type": "stream",
     "text": [
      "Anna \n",
      " Burns\n",
      "Anna \t Burns\n",
      "Anna \\ Burns\n",
      "Anna \\ Burns\n"
     ]
    }
   ],
   "source": [
    "# Escape sequences\n",
    "print(\"Anna \\n Burns\") # New line\n",
    "print(\"Anna \\t Burns\") # New tab\n",
    "print(\"Anna \\\\ Burns\") # Method 1 to print a back slash\n",
    "print(r\"Anna \\ Burns\") # Method 2 to print a back slash"
   ]
  },
  {
   "cell_type": "code",
   "execution_count": 17,
   "metadata": {},
   "outputs": [
    {
     "name": "stdout",
     "output_type": "stream",
     "text": [
      "ANNA MADISON BURNS\n",
      "anna madison burns\n",
      "Tamara Madison Burns\n"
     ]
    }
   ],
   "source": [
    "# String operations\n",
    "A = Name.upper() # Convert to upper case letters\n",
    "print(A)\n",
    "B = A.lower() # Convert to lower case letters\n",
    "print(B)\n",
    "C = Name.replace(\"Anna\", \"Tamara\")\n",
    "print(C)"
   ]
  },
  {
   "cell_type": "code",
   "execution_count": 20,
   "metadata": {},
   "outputs": [
    {
     "name": "stdout",
     "output_type": "stream",
     "text": [
      "5\n",
      "-1\n"
     ]
    }
   ],
   "source": [
    "# Searching strings\n",
    "print(Name.find(\"Mad\")) # Lists the location of the first character\n",
    "print(Name.find(\"e\")) # Gives a negative number if the search term is not in the string"
   ]
  }
 ],
 "metadata": {
  "kernelspec": {
   "display_name": "Python 3",
   "language": "python",
   "name": "python3"
  },
  "language_info": {
   "codemirror_mode": {
    "name": "ipython",
    "version": 3
   },
   "file_extension": ".py",
   "mimetype": "text/x-python",
   "name": "python",
   "nbconvert_exporter": "python",
   "pygments_lexer": "ipython3",
   "version": "3.7.6"
  }
 },
 "nbformat": 4,
 "nbformat_minor": 4
}
